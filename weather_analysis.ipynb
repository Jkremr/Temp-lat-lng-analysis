{
 "cells": [
  {
   "cell_type": "code",
   "execution_count": 1,
   "metadata": {
    "collapsed": true
   },
   "outputs": [],
   "source": [
    "# Import dependencies.\n",
    "from citipy import citipy\n",
    "import numpy as np\n",
    "import pandas as pd\n",
    "import random\n",
    "import requests as req\n",
    "import json\n",
    "# Import Open Weather Map API keys.\n",
    "from openWeatherMapApiKeys import apiKey"
   ]
  },
  {
   "cell_type": "code",
   "execution_count": 2,
   "metadata": {
    "collapsed": true
   },
   "outputs": [],
   "source": [
    "# Declare variables describing the scope of lat/lng search for cities.\n",
    "latDim = {'min': -90, 'max': 90}\n",
    "lngDim = {'min': -180, 'max': 180}\n",
    "\n",
    "latVals = np.arange(latDim['min'], latDim['max'], 0.1)\n",
    "lngVals = np.arange(lngDim['min'], lngDim['max'], 0.1)"
   ]
  },
  {
   "cell_type": "code",
   "execution_count": 3,
   "metadata": {
    "collapsed": true
   },
   "outputs": [],
   "source": [
    "# Create an empty data frame that will contain details of our randomly selected cities.\n",
    "colNames = ('cityName', 'countryCode', 'randLat', 'randLng', 'uniqueName')\n",
    "cities = pd.DataFrame(columns=(colNames))"
   ]
  },
  {
   "cell_type": "code",
   "execution_count": 4,
   "metadata": {
    "collapsed": true
   },
   "outputs": [],
   "source": [
    "# Query Citipy for random lat long values until we collect our sample.\n",
    "\n",
    "sampleSize = 5\n",
    "\n",
    "counter = 0\n",
    "while counter < sampleSize:\n",
    "    randLat = random.choice(latVals)\n",
    "    randLng = random.choice(lngVals)\n",
    "    city = citipy.nearest_city(randLat, randLng)\n",
    "    if city.city_name + city.country_code in cities.uniqueName.tolist():\n",
    "        pass\n",
    "    else:\n",
    "        cities.loc[len(cities)] = [city.city_name, city.country_code, randLat, randLng, city.city_name + city.country_code]\n",
    "    counter += 1\n"
   ]
  },
  {
   "cell_type": "code",
   "execution_count": 5,
   "metadata": {
    "collapsed": false
   },
   "outputs": [
    {
     "data": {
      "text/html": [
       "<div>\n",
       "<table border=\"1\" class=\"dataframe\">\n",
       "  <thead>\n",
       "    <tr style=\"text-align: right;\">\n",
       "      <th></th>\n",
       "      <th>cityName</th>\n",
       "      <th>countryCode</th>\n",
       "      <th>randLat</th>\n",
       "      <th>randLng</th>\n",
       "      <th>uniqueName</th>\n",
       "    </tr>\n",
       "  </thead>\n",
       "  <tbody>\n",
       "    <tr>\n",
       "      <th>0</th>\n",
       "      <td>yamada</td>\n",
       "      <td>jp</td>\n",
       "      <td>38.4</td>\n",
       "      <td>145.7</td>\n",
       "      <td>yamadajp</td>\n",
       "    </tr>\n",
       "    <tr>\n",
       "      <th>1</th>\n",
       "      <td>sangar</td>\n",
       "      <td>ru</td>\n",
       "      <td>63.7</td>\n",
       "      <td>125.9</td>\n",
       "      <td>sangarru</td>\n",
       "    </tr>\n",
       "    <tr>\n",
       "      <th>2</th>\n",
       "      <td>cherskiy</td>\n",
       "      <td>ru</td>\n",
       "      <td>79.8</td>\n",
       "      <td>163.4</td>\n",
       "      <td>cherskiyru</td>\n",
       "    </tr>\n",
       "    <tr>\n",
       "      <th>3</th>\n",
       "      <td>san patricio</td>\n",
       "      <td>mx</td>\n",
       "      <td>0.8</td>\n",
       "      <td>-116.6</td>\n",
       "      <td>san patriciomx</td>\n",
       "    </tr>\n",
       "    <tr>\n",
       "      <th>4</th>\n",
       "      <td>amapa</td>\n",
       "      <td>br</td>\n",
       "      <td>2.1</td>\n",
       "      <td>-48.7</td>\n",
       "      <td>amapabr</td>\n",
       "    </tr>\n",
       "  </tbody>\n",
       "</table>\n",
       "</div>"
      ],
      "text/plain": [
       "       cityName countryCode  randLat  randLng      uniqueName\n",
       "0        yamada          jp     38.4    145.7        yamadajp\n",
       "1        sangar          ru     63.7    125.9        sangarru\n",
       "2      cherskiy          ru     79.8    163.4      cherskiyru\n",
       "3  san patricio          mx      0.8   -116.6  san patriciomx\n",
       "4         amapa          br      2.1    -48.7         amapabr"
      ]
     },
     "execution_count": 5,
     "metadata": {},
     "output_type": "execute_result"
    }
   ],
   "source": [
    "cities.head()"
   ]
  },
  {
   "cell_type": "code",
   "execution_count": null,
   "metadata": {
    "collapsed": true
   },
   "outputs": [],
   "source": [
    "len(cities)"
   ]
  },
  {
   "cell_type": "code",
   "execution_count": 11,
   "metadata": {
    "collapsed": false
   },
   "outputs": [
    {
     "name": "stdout",
     "output_type": "stream",
     "text": [
      "yamada\n",
      "sangar\n",
      "cherskiy\n",
      "san patricio\n",
      "amapa\n"
     ]
    }
   ],
   "source": [
    "# Extend data frame to capture weather data from the Open Weather Map.\n",
    "\n",
    "# cities['lat'] = ''\n",
    "# cities['lng'] = ''\n",
    "# cities['Temperature'] = ''\n",
    "# cities['Humidity'] = ''\n",
    "# cities['Cloudiness'] = ''\n",
    "# cities['WindSpeed'] = ''\n",
    "\n",
    "# HTTP format for this OWM call: \n",
    "#'http://api.openweathermap.org/data/2.5/weather?q=luderitzna,na&units=imperial&APPID=key'\n",
    "baseUrl = 'http://api.openweathermap.org/data/2.5/weather?q='\n",
    "units = 'imperial'\n",
    "for index, row in cities.iterrows():\n",
    "    url = baseUrl + row[\"cityName\"] + ',' + cities[\"countryCode\"] + '&units=' + units + '&APPID=' + apiKey\n",
    "    weather_response = req.get(url[0])\n",
    "    weather_json = weather_response.json()\n",
    "    cities.set_value(index, \"Latitude\", weather_json[\"coord\"][\"lat\"])\n",
    "    cities.set_value(index, \"Longitude\", weather_json[\"coord\"][\"lon\"])\n",
    "    cities.set_value(index, \"Temperature\", weather_json[\"main\"][\"temp\"])\n",
    "    cities.set_value(index, \"Humidity\", weather_json[\"main\"][\"humidity\"])\n",
    "    cities.set_value(index, \"Cloudiness\", weather_json[\"clouds\"][\"all\"])\n",
    "    cities.set_value(index, \"WindSpeed\", weather_json[\"wind\"][\"speed\"])\n",
    "\n",
    " "
   ]
  },
  {
   "cell_type": "code",
   "execution_count": 12,
   "metadata": {
    "collapsed": false
   },
   "outputs": [
    {
     "name": "stdout",
     "output_type": "stream",
     "text": [
      "       cityName countryCode  randLat  randLng      uniqueName  Latitude  \\\n",
      "0        yamada          jp     38.4    145.7        yamadajp     39.47   \n",
      "1        sangar          ru     63.7    125.9        sangarru     60.29   \n",
      "2      cherskiy          ru     79.8    163.4      cherskiyru     68.75   \n",
      "3  san patricio          mx      0.8   -116.6  san patriciomx     28.02   \n",
      "4         amapa          br      2.1    -48.7         amapabr      0.04   \n",
      "\n",
      "   Longitude  Temperature  Humidity  Cloudiness  WindSpeed  \n",
      "0     141.95        73.18      90.0        48.0       9.86  \n",
      "1      25.04        51.80      93.0        88.0       1.12  \n",
      "2     161.30        47.08      68.0        64.0       2.82  \n",
      "3     -97.52        88.72      66.0        20.0      16.11  \n",
      "4     -51.07        82.40      78.0        20.0       8.05  \n"
     ]
    }
   ],
   "source": [
    "print(cities)"
   ]
  },
  {
   "cell_type": "code",
   "execution_count": null,
   "metadata": {
    "collapsed": true
   },
   "outputs": [],
   "source": []
  },
  {
   "cell_type": "code",
   "execution_count": null,
   "metadata": {
    "collapsed": true
   },
   "outputs": [],
   "source": []
  }
 ],
 "metadata": {
  "kernelspec": {
   "display_name": "Python 3",
   "language": "python",
   "name": "python3"
  },
  "language_info": {
   "codemirror_mode": {
    "name": "ipython",
    "version": 3
   },
   "file_extension": ".py",
   "mimetype": "text/x-python",
   "name": "python",
   "nbconvert_exporter": "python",
   "pygments_lexer": "ipython3",
   "version": "3.6.0"
  }
 },
 "nbformat": 4,
 "nbformat_minor": 2
}
